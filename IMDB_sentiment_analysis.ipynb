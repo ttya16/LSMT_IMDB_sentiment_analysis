{
  "nbformat": 4,
  "nbformat_minor": 0,
  "metadata": {
    "colab": {
      "name": "IMDB_sentiment_analysis.ipynb",
      "version": "0.3.2",
      "provenance": [],
      "collapsed_sections": [],
      "toc_visible": true,
      "include_colab_link": true
    },
    "kernelspec": {
      "name": "python3",
      "display_name": "Python 3"
    },
    "accelerator": "GPU"
  },
  "cells": [
    {
      "cell_type": "markdown",
      "metadata": {
        "id": "view-in-github",
        "colab_type": "text"
      },
      "source": [
        "<a href=\"https://colab.research.google.com/github/ttya16/LSMT_IMDB_sentiment_analysis/blob/master/IMDB_sentiment_analysis.ipynb\" target=\"_parent\"><img src=\"https://colab.research.google.com/assets/colab-badge.svg\" alt=\"Open In Colab\"/></a>"
      ]
    },
    {
      "cell_type": "markdown",
      "metadata": {
        "id": "maWFIS47Sc7q",
        "colab_type": "text"
      },
      "source": [
        "## LSTMモデルによるIMDBデータセットのネガポジ分析検証\n",
        "\n",
        "**目的**\n",
        "* 単語の分散表現を用いたRNNモデルを自分で実装してみる。\n",
        "* 実際にどれくらいの精度が出るのか試してみる。"
      ]
    },
    {
      "cell_type": "markdown",
      "metadata": {
        "id": "vslvFNXVP7Yc",
        "colab_type": "text"
      },
      "source": [
        "### ノートブックの準備\n",
        "* ノートブックの設定はハードウェアアクセラレータをGPUにしておく。\n",
        "* imdbデータセットをダウンロードするのだが、numpyのバージョンが新しいとエラーになるようなので、正常に動くバージョンへ下げる。"
      ]
    },
    {
      "cell_type": "markdown",
      "metadata": {
        "id": "HQ07fXckSYti",
        "colab_type": "text"
      },
      "source": [
        "### IMDBデータセット\n",
        "映画の投稿レビューテキストに対して「肯定的」か「否定的」かのラベルづけがされたデータセット。<br>\n",
        "kerasライブラリ経由でダウンロードが可能。(numpyのバージョンを1.16.2に合わせる必要がある)<br>\n",
        "\n",
        "[keras datasets](https://keras.io/ja/datasets/)<br>\n",
        "[IMDBのサイト](https://www.imdb.com/)"
      ]
    },
    {
      "cell_type": "code",
      "metadata": {
        "id": "IdN8TL3BgjmD",
        "colab_type": "code",
        "colab": {
          "base_uri": "https://localhost:8080/",
          "height": 34
        },
        "outputId": "4fe4670e-fda0-445c-829a-f474950fdc61"
      },
      "source": [
        "!pip install numpy==1.16.2"
      ],
      "execution_count": 1,
      "outputs": [
        {
          "output_type": "stream",
          "text": [
            "Requirement already satisfied: numpy==1.16.2 in /usr/local/lib/python3.6/dist-packages (1.16.2)\n"
          ],
          "name": "stdout"
        }
      ]
    },
    {
      "cell_type": "markdown",
      "metadata": {
        "id": "qVJrJw52UWcr",
        "colab_type": "text"
      },
      "source": [
        "### 必要なライブラリの準備"
      ]
    },
    {
      "cell_type": "code",
      "metadata": {
        "id": "jgsTd692d8_K",
        "colab_type": "code",
        "colab": {
          "base_uri": "https://localhost:8080/",
          "height": 34
        },
        "outputId": "b8d810b8-8441-4e6d-9509-e145d749422e"
      },
      "source": [
        "from keras.preprocessing import sequence\n",
        "from keras.models import Sequential\n",
        "from keras.layers import Dense, Embedding, CuDNNLSTM, BatchNormalization\n",
        "from keras.datasets import imdb\n",
        "\n",
        "import numpy as np\n",
        "from sklearn import metrics\n",
        "import matplotlib.pyplot as plt"
      ],
      "execution_count": 2,
      "outputs": [
        {
          "output_type": "stream",
          "text": [
            "Using TensorFlow backend.\n"
          ],
          "name": "stderr"
        }
      ]
    },
    {
      "cell_type": "markdown",
      "metadata": {
        "id": "nzno03j0UtTg",
        "colab_type": "text"
      },
      "source": [
        "### ハイパーパラメータなど"
      ]
    },
    {
      "cell_type": "code",
      "metadata": {
        "id": "nLhgR46LeVid",
        "colab_type": "code",
        "colab": {}
      },
      "source": [
        "NUM_VOCAB = 10000 #語彙数\n",
        "MAX_LEN = 200 #入力シーケンスの長さ\n",
        "EMBEDDING_DIMS = 16 #分散表現の次元数\n",
        "BATCH_SIZE = 64 #学習バッチのサイズ\n",
        "EPOCHS = 20 #学習エポック数"
      ],
      "execution_count": 0,
      "outputs": []
    },
    {
      "cell_type": "markdown",
      "metadata": {
        "id": "j4zoknS8RKXt",
        "colab_type": "text"
      },
      "source": [
        "### IMDBデータセットのダウンロード"
      ]
    },
    {
      "cell_type": "code",
      "metadata": {
        "id": "rihaUUDmesxt",
        "colab_type": "code",
        "colab": {
          "base_uri": "https://localhost:8080/",
          "height": 241
        },
        "outputId": "3287d012-14d2-4b9a-f817-b17d12132883"
      },
      "source": [
        "(x_train, y_train), (x_val, y_val) = imdb.load_data(num_words = NUM_VOCAB, index_from=3)\n",
        "\n",
        "print(\"trainデータサイズ\",len(x_train))\n",
        "print(\"valデータサイズ\", len(x_val))\n",
        "\n",
        "for sample in range(10):\n",
        "  print(x_train[sample])"
      ],
      "execution_count": 8,
      "outputs": [
        {
          "output_type": "stream",
          "text": [
            "trainデータサイズ 25000\n",
            "valデータサイズ 25000\n",
            "[1, 14, 22, 16, 43, 530, 973, 1622, 1385, 65, 458, 4468, 66, 3941, 4, 173, 36, 256, 5, 25, 100, 43, 838, 112, 50, 670, 2, 9, 35, 480, 284, 5, 150, 4, 172, 112, 167, 2, 336, 385, 39, 4, 172, 4536, 1111, 17, 546, 38, 13, 447, 4, 192, 50, 16, 6, 147, 2025, 19, 14, 22, 4, 1920, 4613, 469, 4, 22, 71, 87, 12, 16, 43, 530, 38, 76, 15, 13, 1247, 4, 22, 17, 515, 17, 12, 16, 626, 18, 2, 5, 62, 386, 12, 8, 316, 8, 106, 5, 4, 2223, 5244, 16, 480, 66, 3785, 33, 4, 130, 12, 16, 38, 619, 5, 25, 124, 51, 36, 135, 48, 25, 1415, 33, 6, 22, 12, 215, 28, 77, 52, 5, 14, 407, 16, 82, 2, 8, 4, 107, 117, 5952, 15, 256, 4, 2, 7, 3766, 5, 723, 36, 71, 43, 530, 476, 26, 400, 317, 46, 7, 4, 2, 1029, 13, 104, 88, 4, 381, 15, 297, 98, 32, 2071, 56, 26, 141, 6, 194, 7486, 18, 4, 226, 22, 21, 134, 476, 26, 480, 5, 144, 30, 5535, 18, 51, 36, 28, 224, 92, 25, 104, 4, 226, 65, 16, 38, 1334, 88, 12, 16, 283, 5, 16, 4472, 113, 103, 32, 15, 16, 5345, 19, 178, 32]\n",
            "[1, 194, 1153, 194, 8255, 78, 228, 5, 6, 1463, 4369, 5012, 134, 26, 4, 715, 8, 118, 1634, 14, 394, 20, 13, 119, 954, 189, 102, 5, 207, 110, 3103, 21, 14, 69, 188, 8, 30, 23, 7, 4, 249, 126, 93, 4, 114, 9, 2300, 1523, 5, 647, 4, 116, 9, 35, 8163, 4, 229, 9, 340, 1322, 4, 118, 9, 4, 130, 4901, 19, 4, 1002, 5, 89, 29, 952, 46, 37, 4, 455, 9, 45, 43, 38, 1543, 1905, 398, 4, 1649, 26, 6853, 5, 163, 11, 3215, 2, 4, 1153, 9, 194, 775, 7, 8255, 2, 349, 2637, 148, 605, 2, 8003, 15, 123, 125, 68, 2, 6853, 15, 349, 165, 4362, 98, 5, 4, 228, 9, 43, 2, 1157, 15, 299, 120, 5, 120, 174, 11, 220, 175, 136, 50, 9, 4373, 228, 8255, 5, 2, 656, 245, 2350, 5, 4, 9837, 131, 152, 491, 18, 2, 32, 7464, 1212, 14, 9, 6, 371, 78, 22, 625, 64, 1382, 9, 8, 168, 145, 23, 4, 1690, 15, 16, 4, 1355, 5, 28, 6, 52, 154, 462, 33, 89, 78, 285, 16, 145, 95]\n",
            "[1, 14, 47, 8, 30, 31, 7, 4, 249, 108, 7, 4, 5974, 54, 61, 369, 13, 71, 149, 14, 22, 112, 4, 2401, 311, 12, 16, 3711, 33, 75, 43, 1829, 296, 4, 86, 320, 35, 534, 19, 263, 4821, 1301, 4, 1873, 33, 89, 78, 12, 66, 16, 4, 360, 7, 4, 58, 316, 334, 11, 4, 1716, 43, 645, 662, 8, 257, 85, 1200, 42, 1228, 2578, 83, 68, 3912, 15, 36, 165, 1539, 278, 36, 69, 2, 780, 8, 106, 14, 6905, 1338, 18, 6, 22, 12, 215, 28, 610, 40, 6, 87, 326, 23, 2300, 21, 23, 22, 12, 272, 40, 57, 31, 11, 4, 22, 47, 6, 2307, 51, 9, 170, 23, 595, 116, 595, 1352, 13, 191, 79, 638, 89, 2, 14, 9, 8, 106, 607, 624, 35, 534, 6, 227, 7, 129, 113]\n",
            "[1, 4, 2, 2, 33, 2804, 4, 2040, 432, 111, 153, 103, 4, 1494, 13, 70, 131, 67, 11, 61, 2, 744, 35, 3715, 761, 61, 5766, 452, 9214, 4, 985, 7, 2, 59, 166, 4, 105, 216, 1239, 41, 1797, 9, 15, 7, 35, 744, 2413, 31, 8, 4, 687, 23, 4, 2, 7339, 6, 3693, 42, 38, 39, 121, 59, 456, 10, 10, 7, 265, 12, 575, 111, 153, 159, 59, 16, 1447, 21, 25, 586, 482, 39, 4, 96, 59, 716, 12, 4, 172, 65, 9, 579, 11, 6004, 4, 1615, 5, 2, 7, 5168, 17, 13, 7064, 12, 19, 6, 464, 31, 314, 11, 2, 6, 719, 605, 11, 8, 202, 27, 310, 4, 3772, 3501, 8, 2722, 58, 10, 10, 537, 2116, 180, 40, 14, 413, 173, 7, 263, 112, 37, 152, 377, 4, 537, 263, 846, 579, 178, 54, 75, 71, 476, 36, 413, 263, 2504, 182, 5, 17, 75, 2306, 922, 36, 279, 131, 2895, 17, 2867, 42, 17, 35, 921, 2, 192, 5, 1219, 3890, 19, 2, 217, 4122, 1710, 537, 2, 1236, 5, 736, 10, 10, 61, 403, 9, 2, 40, 61, 4494, 5, 27, 4494, 159, 90, 263, 2311, 4319, 309, 8, 178, 5, 82, 4319, 4, 65, 15, 9225, 145, 143, 5122, 12, 7039, 537, 746, 537, 537, 15, 7979, 4, 2, 594, 7, 5168, 94, 9096, 3987, 2, 11, 2, 4, 538, 7, 1795, 246, 2, 9, 2, 11, 635, 14, 9, 51, 408, 12, 94, 318, 1382, 12, 47, 6, 2683, 936, 5, 6307, 2, 19, 49, 7, 4, 1885, 2, 1118, 25, 80, 126, 842, 10, 10, 2, 2, 4726, 27, 4494, 11, 1550, 3633, 159, 27, 341, 29, 2733, 19, 4185, 173, 7, 90, 2, 8, 30, 11, 4, 1784, 86, 1117, 8, 3261, 46, 11, 2, 21, 29, 9, 2841, 23, 4, 1010, 2, 793, 6, 2, 1386, 1830, 10, 10, 246, 50, 9, 6, 2750, 1944, 746, 90, 29, 2, 8, 124, 4, 882, 4, 882, 496, 27, 2, 2213, 537, 121, 127, 1219, 130, 5, 29, 494, 8, 124, 4, 882, 496, 4, 341, 7, 27, 846, 10, 10, 29, 9, 1906, 8, 97, 6, 236, 2, 1311, 8, 4, 2, 7, 31, 7, 2, 91, 2, 3987, 70, 4, 882, 30, 579, 42, 9, 12, 32, 11, 537, 10, 10, 11, 14, 65, 44, 537, 75, 2, 1775, 3353, 2, 1846, 4, 2, 7, 154, 5, 4, 518, 53, 2, 2, 7, 3211, 882, 11, 399, 38, 75, 257, 3807, 19, 2, 17, 29, 456, 4, 65, 7, 27, 205, 113, 10, 10, 2, 4, 2, 2, 9, 242, 4, 91, 1202, 2, 5, 2070, 307, 22, 7, 5168, 126, 93, 40, 2, 13, 188, 1076, 3222, 19, 4, 2, 7, 2348, 537, 23, 53, 537, 21, 82, 40, 2, 13, 2, 14, 280, 13, 219, 4, 2, 431, 758, 859, 4, 953, 1052, 2, 7, 5991, 5, 94, 40, 25, 238, 60, 2, 4, 2, 804, 2, 7, 4, 9941, 132, 8, 67, 6, 22, 15, 9, 283, 8, 5168, 14, 31, 9, 242, 955, 48, 25, 279, 2, 23, 12, 1685, 195, 25, 238, 60, 796, 2, 4, 671, 7, 2804, 5, 4, 559, 154, 888, 7, 726, 50, 26, 49, 7008, 15, 566, 30, 579, 21, 64, 2574]\n",
            "[1, 249, 1323, 7, 61, 113, 10, 10, 13, 1637, 14, 20, 56, 33, 2401, 18, 457, 88, 13, 2626, 1400, 45, 3171, 13, 70, 79, 49, 706, 919, 13, 16, 355, 340, 355, 1696, 96, 143, 4, 22, 32, 289, 7, 61, 369, 71, 2359, 5, 13, 16, 131, 2073, 249, 114, 249, 229, 249, 20, 13, 28, 126, 110, 13, 473, 8, 569, 61, 419, 56, 429, 6, 1513, 18, 35, 534, 95, 474, 570, 5, 25, 124, 138, 88, 12, 421, 1543, 52, 725, 6397, 61, 419, 11, 13, 1571, 15, 1543, 20, 11, 4, 2, 5, 296, 12, 3524, 5, 15, 421, 128, 74, 233, 334, 207, 126, 224, 12, 562, 298, 2167, 1272, 7, 2601, 5, 516, 988, 43, 8, 79, 120, 15, 595, 13, 784, 25, 3171, 18, 165, 170, 143, 19, 14, 5, 7224, 6, 226, 251, 7, 61, 113]\n",
            "[1, 778, 128, 74, 12, 630, 163, 15, 4, 1766, 7982, 1051, 2, 32, 85, 156, 45, 40, 148, 139, 121, 664, 665, 10, 10, 1361, 173, 4, 749, 2, 16, 3804, 8, 4, 226, 65, 12, 43, 127, 24, 2, 10, 10]\n",
            "[1, 6740, 365, 1234, 5, 1156, 354, 11, 14, 5327, 6638, 7, 1016, 2, 5940, 356, 44, 4, 1349, 500, 746, 5, 200, 4, 4132, 11, 2, 9363, 1117, 1831, 7485, 5, 4831, 26, 6, 2, 4183, 17, 369, 37, 215, 1345, 143, 2, 5, 1838, 8, 1974, 15, 36, 119, 257, 85, 52, 486, 9, 6, 2, 8564, 63, 271, 6, 196, 96, 949, 4121, 4, 2, 7, 4, 2212, 2436, 819, 63, 47, 77, 7175, 180, 6, 227, 11, 94, 2494, 2, 13, 423, 4, 168, 7, 4, 22, 5, 89, 665, 71, 270, 56, 5, 13, 197, 12, 161, 5390, 99, 76, 23, 2, 7, 419, 665, 40, 91, 85, 108, 7, 4, 2084, 5, 4773, 81, 55, 52, 1901]\n",
            "[1, 4, 2, 716, 4, 65, 7, 4, 689, 4367, 6308, 2343, 4804, 2, 2, 5270, 2, 2315, 2, 2, 2, 2, 4, 2, 628, 7685, 37, 9, 150, 4, 9820, 4069, 11, 2909, 4, 2, 847, 313, 6, 176, 2, 9, 6202, 138, 9, 4434, 19, 4, 96, 183, 26, 4, 192, 15, 27, 5842, 799, 7101, 2, 588, 84, 11, 4, 3231, 152, 339, 5206, 42, 4869, 2, 6293, 345, 4804, 2, 142, 43, 218, 208, 54, 29, 853, 659, 46, 4, 882, 183, 80, 115, 30, 4, 172, 174, 10, 10, 1001, 398, 1001, 1055, 526, 34, 3717, 2, 5262, 2, 17, 4, 6706, 1094, 871, 64, 85, 22, 2030, 1109, 38, 230, 9, 4, 4324, 2, 251, 5056, 1034, 195, 301, 14, 16, 31, 7, 4, 2, 8, 783, 2, 33, 4, 2945, 103, 465, 2, 42, 845, 45, 446, 11, 1895, 19, 184, 76, 32, 4, 5310, 207, 110, 13, 197, 4, 2, 16, 601, 964, 2152, 595, 13, 258, 4, 1730, 66, 338, 55, 5312, 4, 550, 728, 65, 1196, 8, 1839, 61, 1546, 42, 8361, 61, 602, 120, 45, 7304, 6, 320, 786, 99, 196, 2, 786, 5936, 4, 225, 4, 373, 1009, 33, 4, 130, 63, 69, 72, 1104, 46, 1292, 225, 14, 66, 194, 2, 1703, 56, 8, 803, 1004, 6, 2, 155, 11, 4, 2, 3231, 45, 853, 2029, 8, 30, 6, 117, 430, 19, 6, 8941, 9, 15, 66, 424, 8, 2337, 178, 9, 15, 66, 424, 8, 1465, 178, 9, 15, 66, 142, 15, 9, 424, 8, 28, 178, 662, 44, 12, 17, 4, 130, 898, 1686, 9, 6, 5623, 267, 185, 430, 4, 118, 2, 277, 15, 4, 1188, 100, 216, 56, 19, 4, 357, 114, 2, 367, 45, 115, 93, 788, 121, 4, 2, 79, 32, 68, 278, 39, 8, 818, 162, 4165, 237, 600, 7, 98, 306, 8, 157, 549, 628, 11, 6, 2, 13, 824, 15, 4104, 76, 42, 138, 36, 774, 77, 1059, 159, 150, 4, 229, 497, 8, 1493, 11, 175, 251, 453, 19, 8651, 189, 12, 43, 127, 6, 394, 292, 7, 8253, 4, 107, 8, 4, 2826, 15, 1082, 1251, 9, 906, 42, 1134, 6, 66, 78, 22, 15, 13, 244, 2519, 8, 135, 233, 52, 44, 10, 10, 466, 112, 398, 526, 34, 4, 1572, 4413, 6706, 1094, 225, 57, 599, 133, 225, 6, 227, 7, 541, 4323, 6, 171, 139, 7, 539, 2, 56, 11, 6, 3231, 21, 164, 25, 426, 81, 33, 344, 624, 19, 6, 4617, 7, 2, 2, 6, 5802, 4, 22, 9, 1082, 629, 237, 45, 188, 6, 55, 655, 707, 6371, 956, 225, 1456, 841, 42, 1310, 225, 6, 2493, 1467, 7722, 2828, 21, 4, 2, 9, 364, 23, 4, 2228, 2407, 225, 24, 76, 133, 18, 4, 189, 2293, 10, 10, 814, 11, 2, 11, 2642, 14, 47, 15, 682, 364, 352, 168, 44, 12, 45, 24, 913, 93, 21, 247, 2441, 4, 116, 34, 35, 1859, 8, 72, 177, 9, 164, 8, 901, 344, 44, 13, 191, 135, 13, 126, 421, 233, 18, 259, 10, 10, 4, 2, 6847, 4, 2, 3074, 7, 112, 199, 753, 357, 39, 63, 12, 115, 2, 763, 8, 15, 35, 3282, 1523, 65, 57, 599, 6, 1916, 277, 1730, 37, 25, 92, 202, 6, 8848, 44, 25, 28, 6, 22, 15, 122, 24, 4171, 72, 33, 32]\n",
            "[1, 43, 188, 46, 5, 566, 264, 51, 6, 530, 664, 14, 9, 1713, 81, 25, 1135, 46, 7, 6, 20, 750, 11, 141, 4299, 5, 2, 4441, 102, 28, 413, 38, 120, 5533, 15, 4, 3974, 7, 5369, 142, 371, 318, 5, 955, 1713, 571, 2, 2, 122, 14, 8, 72, 54, 12, 86, 385, 46, 5, 14, 20, 9, 399, 8, 72, 150, 13, 161, 124, 6, 155, 44, 14, 159, 170, 83, 12, 5, 51, 6, 866, 48, 25, 842, 4, 1120, 25, 238, 79, 4, 547, 15, 14, 9, 31, 7, 148, 2, 102, 44, 35, 480, 3823, 2380, 19, 120, 4, 350, 228, 5, 269, 8, 28, 178, 1314, 2347, 7, 51, 6, 87, 65, 12, 9, 979, 21, 95, 24, 3186, 178, 11, 2, 14, 9, 24, 15, 20, 4, 84, 376, 4, 65, 14, 127, 141, 6, 52, 292, 7, 4751, 175, 561, 7, 68, 3866, 137, 75, 2541, 68, 182, 5, 235, 175, 333, 19, 98, 50, 9, 38, 76, 724, 4, 6750, 15, 166, 285, 36, 140, 143, 38, 76, 53, 3094, 1301, 4, 6991, 16, 82, 6, 87, 3578, 44, 2527, 7612, 5, 800, 4, 3033, 11, 35, 1728, 96, 21, 14, 22, 9, 76, 53, 7, 6, 406, 65, 13, 43, 219, 12, 639, 21, 13, 80, 140, 5, 135, 15, 14, 9, 31, 7, 4, 118, 3672, 13, 28, 126, 110]\n",
            "[1, 14, 20, 47, 111, 439, 3445, 19, 12, 15, 166, 12, 216, 125, 40, 6, 364, 352, 707, 1187, 39, 294, 11, 22, 396, 13, 28, 8, 202, 12, 1109, 23, 94, 2, 151, 111, 211, 469, 4, 20, 13, 258, 546, 1104, 7273, 12, 16, 38, 78, 33, 211, 15, 12, 16, 2849, 63, 93, 12, 6, 253, 106, 10, 10, 48, 335, 267, 18, 6, 364, 1242, 1179, 20, 19, 6, 1009, 7, 1987, 189, 5, 6, 8419, 7, 2723, 2, 95, 1719, 6, 6035, 7, 3912, 7144, 49, 369, 120, 5, 28, 49, 253, 10, 10, 13, 1041, 19, 85, 795, 15, 4, 481, 9, 55, 78, 807, 9, 375, 8, 1167, 8, 794, 76, 7, 4, 58, 5, 4, 816, 9, 243, 7, 43, 50]\n"
          ],
          "name": "stdout"
        }
      ]
    },
    {
      "cell_type": "code",
      "metadata": {
        "id": "uv13IsvHfFDK",
        "colab_type": "code",
        "colab": {
          "base_uri": "https://localhost:8080/",
          "height": 51
        },
        "outputId": "ff6d8e82-ff0d-44c7-b879-8115276a69c5"
      },
      "source": [
        "#入力シーケンスの長さを統一するために後方でpaddingする。\n",
        "print(\"before padding:\", x_train.shape)\n",
        "x_train = sequence.pad_sequences(x_train, maxlen=MAX_LEN, padding=\"post\", truncating=\"post\")\n",
        "x_val = sequence.pad_sequences(x_val, maxlen=MAX_LEN, padding=\"post\", truncating=\"post\")\n",
        "print(\"after padding:\", x_train.shape)"
      ],
      "execution_count": 9,
      "outputs": [
        {
          "output_type": "stream",
          "text": [
            "before padding: (25000,)\n",
            "after padding: (25000, 200)\n"
          ],
          "name": "stdout"
        }
      ]
    },
    {
      "cell_type": "code",
      "metadata": {
        "id": "Im0s9xWsVW1B",
        "colab_type": "code",
        "colab": {
          "base_uri": "https://localhost:8080/",
          "height": 272
        },
        "outputId": "d4c3012f-9d5c-4d33-f11e-1042cca0e1ba"
      },
      "source": [
        "print(x_train[1])"
      ],
      "execution_count": 10,
      "outputs": [
        {
          "output_type": "stream",
          "text": [
            "[   1  194 1153  194 8255   78  228    5    6 1463 4369 5012  134   26\n",
            "    4  715    8  118 1634   14  394   20   13  119  954  189  102    5\n",
            "  207  110 3103   21   14   69  188    8   30   23    7    4  249  126\n",
            "   93    4  114    9 2300 1523    5  647    4  116    9   35 8163    4\n",
            "  229    9  340 1322    4  118    9    4  130 4901   19    4 1002    5\n",
            "   89   29  952   46   37    4  455    9   45   43   38 1543 1905  398\n",
            "    4 1649   26 6853    5  163   11 3215    2    4 1153    9  194  775\n",
            "    7 8255    2  349 2637  148  605    2 8003   15  123  125   68    2\n",
            " 6853   15  349  165 4362   98    5    4  228    9   43    2 1157   15\n",
            "  299  120    5  120  174   11  220  175  136   50    9 4373  228 8255\n",
            "    5    2  656  245 2350    5    4 9837  131  152  491   18    2   32\n",
            " 7464 1212   14    9    6  371   78   22  625   64 1382    9    8  168\n",
            "  145   23    4 1690   15   16    4 1355    5   28    6   52  154  462\n",
            "   33   89   78  285   16  145   95    0    0    0    0    0    0    0\n",
            "    0    0    0    0]\n"
          ],
          "name": "stdout"
        }
      ]
    },
    {
      "cell_type": "markdown",
      "metadata": {
        "id": "RWKW6nS6VbpA",
        "colab_type": "text"
      },
      "source": [
        "入力長が200になるように、200以下だったものは後方を0で埋めて不足分を補う形にしている。"
      ]
    },
    {
      "cell_type": "markdown",
      "metadata": {
        "id": "W1g_zoIrVtTb",
        "colab_type": "text"
      },
      "source": [
        "### 学習の準備\n",
        "学習用のデータを少し増やしたいので、x_valの半分を学習用に回してデータを再編成。"
      ]
    },
    {
      "cell_type": "code",
      "metadata": {
        "id": "UBj9irylIUWS",
        "colab_type": "code",
        "colab": {}
      },
      "source": [
        "X_tr = np.concatenate((x_train, x_val[:12500]), axis = 0)\n",
        "y_tr = np.concatenate((y_train, y_val[:12500]), axis=0)\n",
        "\n",
        "X_test = x_val[12500:]\n",
        "y_test = y_val[12500:]"
      ],
      "execution_count": 0,
      "outputs": []
    },
    {
      "cell_type": "markdown",
      "metadata": {
        "id": "TplHX0ABWUQK",
        "colab_type": "text"
      },
      "source": [
        "### モデルの準備\n",
        "以下のようなLSTMセルを用いたRNNモデルを準備した。<br>"
      ]
    },
    {
      "cell_type": "code",
      "metadata": {
        "id": "SJABCd9jhScB",
        "colab_type": "code",
        "colab": {}
      },
      "source": [
        "model_lstm = Sequential()\n",
        "model_lstm.add(Embedding(NUM_VOCAB, EMBEDDING_DIMS, input_length=MAX_LEN))\n",
        "model_lstm.add(CuDNNLSTM(64, return_sequences=True))\n",
        "model_lstm.add(BatchNormalization())\n",
        "model_lstm.add(CuDNNLSTM(32))\n",
        "model_lstm.add(Dense(1, activation='sigmoid'))\n",
        "\n",
        "model_lstm.compile(optimizer='adam', loss='binary_crossentropy', metrics=['acc'])"
      ],
      "execution_count": 0,
      "outputs": []
    },
    {
      "cell_type": "code",
      "metadata": {
        "id": "x-PocjFeiS6u",
        "colab_type": "code",
        "colab": {
          "base_uri": "https://localhost:8080/",
          "height": 306
        },
        "outputId": "64d63526-f249-4e8a-db4d-77d5838d827a"
      },
      "source": [
        "model_lstm.summary()"
      ],
      "execution_count": 18,
      "outputs": [
        {
          "output_type": "stream",
          "text": [
            "_________________________________________________________________\n",
            "Layer (type)                 Output Shape              Param #   \n",
            "=================================================================\n",
            "embedding_2 (Embedding)      (None, 200, 16)           160000    \n",
            "_________________________________________________________________\n",
            "cu_dnnlstm_3 (CuDNNLSTM)     (None, 200, 64)           20992     \n",
            "_________________________________________________________________\n",
            "batch_normalization_2 (Batch (None, 200, 64)           256       \n",
            "_________________________________________________________________\n",
            "cu_dnnlstm_4 (CuDNNLSTM)     (None, 32)                12544     \n",
            "_________________________________________________________________\n",
            "dense_2 (Dense)              (None, 1)                 33        \n",
            "=================================================================\n",
            "Total params: 193,825\n",
            "Trainable params: 193,697\n",
            "Non-trainable params: 128\n",
            "_________________________________________________________________\n"
          ],
          "name": "stdout"
        }
      ]
    },
    {
      "cell_type": "code",
      "metadata": {
        "id": "QNt1hT7PiY14",
        "colab_type": "code",
        "colab": {
          "base_uri": "https://localhost:8080/",
          "height": 394
        },
        "outputId": "3f55e8c2-f153-4e27-88a5-863685692696"
      },
      "source": [
        "history = model_lstm.fit(X_tr, y_tr,\n",
        "                                           batch_size=BATCH_SIZE,\n",
        "                                           epochs=EPOCHS, \n",
        "                                           verbose=1,\n",
        "                                           validation_split=0.2)"
      ],
      "execution_count": 19,
      "outputs": [
        {
          "output_type": "stream",
          "text": [
            "Train on 30000 samples, validate on 7500 samples\n",
            "Epoch 1/10\n",
            "30000/30000 [==============================] - 42s 1ms/step - loss: 0.6392 - acc: 0.6323 - val_loss: 0.7644 - val_acc: 0.5001\n",
            "Epoch 2/10\n",
            "30000/30000 [==============================] - 40s 1ms/step - loss: 0.5348 - acc: 0.7482 - val_loss: 0.7136 - val_acc: 0.6753\n",
            "Epoch 3/10\n",
            "30000/30000 [==============================] - 40s 1ms/step - loss: 0.4455 - acc: 0.8074 - val_loss: 1.1172 - val_acc: 0.5352\n",
            "Epoch 4/10\n",
            "30000/30000 [==============================] - 40s 1ms/step - loss: 0.3969 - acc: 0.8296 - val_loss: 0.7777 - val_acc: 0.5684\n",
            "Epoch 5/10\n",
            "30000/30000 [==============================] - 40s 1ms/step - loss: 0.3318 - acc: 0.8663 - val_loss: 0.4641 - val_acc: 0.7855\n",
            "Epoch 6/10\n",
            "30000/30000 [==============================] - 40s 1ms/step - loss: 0.2872 - acc: 0.8872 - val_loss: 0.4169 - val_acc: 0.8263\n",
            "Epoch 7/10\n",
            "30000/30000 [==============================] - 40s 1ms/step - loss: 0.2401 - acc: 0.9116 - val_loss: 0.4050 - val_acc: 0.8408\n",
            "Epoch 8/10\n",
            "30000/30000 [==============================] - 40s 1ms/step - loss: 0.2126 - acc: 0.9222 - val_loss: 0.4239 - val_acc: 0.8367\n",
            "Epoch 9/10\n",
            "30000/30000 [==============================] - 40s 1ms/step - loss: 0.1977 - acc: 0.9270 - val_loss: 0.5305 - val_acc: 0.8021\n",
            "Epoch 10/10\n",
            "30000/30000 [==============================] - 40s 1ms/step - loss: 0.1635 - acc: 0.9430 - val_loss: 0.4995 - val_acc: 0.8335\n"
          ],
          "name": "stdout"
        }
      ]
    },
    {
      "cell_type": "code",
      "metadata": {
        "id": "_OfeXBLOXCzI",
        "colab_type": "code",
        "colab": {
          "base_uri": "https://localhost:8080/",
          "height": 281
        },
        "outputId": "1b660aef-fa17-40c2-c3f2-3ff4eba1439b"
      },
      "source": [
        "plt.figure()\n",
        "plt.plot(history.history['loss'], label=\"train loss\")\n",
        "plt.plot(history.history['val_loss'], label=\"val loss\")\n",
        "plt.title(\"Train loss vs val loss\")\n",
        "plt.legend()\n",
        "plt.show()"
      ],
      "execution_count": 20,
      "outputs": [
        {
          "output_type": "display_data",
          "data": {
            "image/png": "[encoded data removed]",
            "text/plain": [
              "<Figure size 432x288 with 1 Axes>"
            ]
          },
          "metadata": {
            "tags": []
          }
        }
      ]
    },
    {
      "cell_type": "markdown",
      "metadata": {
        "id": "3Lmw-Rt_YtLR",
        "colab_type": "text"
      },
      "source": [
        "## モデルの性能を確認\n"
      ]
    },
    {
      "cell_type": "code",
      "metadata": {
        "id": "tgR2QhisioQR",
        "colab_type": "code",
        "colab": {}
      },
      "source": [
        "#imdbの単語->Index対応の辞書をダウンロードする\n",
        "word_index = imdb.get_word_index()"
      ],
      "execution_count": 0,
      "outputs": []
    },
    {
      "cell_type": "markdown",
      "metadata": {
        "id": "XUMpJ9ZbaZZN",
        "colab_type": "text"
      },
      "source": [
        "**IMDBの単語-Indexの対応については上でダウンロードした辞書によってそのまま対応づけられている訳ではなく、実際は3ずれたIndexが当てられている。**\n",
        "<br>\n",
        "ずれた3つのindex1~3はそれぞれ、\n",
        "* シーケンスの開始地点を示すindicator: 1\n",
        "* 語彙にない単語を示すindicator: 2\n",
        "* 3は使われていない。(kerasにおける些細なミスと思われる)\n",
        "となっている。<br>\n",
        "\n",
        "pad_sequencesによりpadding部分は全て0が割り当てられるようになっているため、以下のコードのように調整してやれば良い。\n",
        "\n",
        "\n",
        "[参考](https://jamesmccaffrey.wordpress.com/2018/04/27/inspecting-the-imdb-dataset-reverse-mapping-the-index-values/)"
      ]
    },
    {
      "cell_type": "code",
      "metadata": {
        "id": "Q4Umkpu5i-nJ",
        "colab_type": "code",
        "colab": {}
      },
      "source": [
        "word_index_fixed = {k:v+3 for k, v in word_index.items()}\n",
        "word_index_fixed[\"<PAD>\"] = 0\n",
        "word_index_fixed[\"<START>\"] = 1\n",
        "word_index_fixed[\"<UNK>\"] = 2"
      ],
      "execution_count": 0,
      "outputs": []
    },
    {
      "cell_type": "markdown",
      "metadata": {
        "id": "ieqJrIHRejOD",
        "colab_type": "text"
      },
      "source": [
        "Index->単語対応の辞書も用意する。"
      ]
    },
    {
      "cell_type": "code",
      "metadata": {
        "id": "J-twL_qMjjIx",
        "colab_type": "code",
        "colab": {
          "base_uri": "https://localhost:8080/",
          "height": 34
        },
        "outputId": "cd448764-c8ec-4a8a-9b18-3e7a3f1ad891"
      },
      "source": [
        "index_word = dict([(value, key) for (key, value) in word_index_fixed.items()])\n",
        "index_word[0]"
      ],
      "execution_count": 25,
      "outputs": [
        {
          "output_type": "execute_result",
          "data": {
            "text/plain": [
              "'<PAD>'"
            ]
          },
          "metadata": {
            "tags": []
          },
          "execution_count": 25
        }
      ]
    },
    {
      "cell_type": "code",
      "metadata": {
        "id": "nwOhNxwjjGDj",
        "colab_type": "code",
        "colab": {
          "base_uri": "https://localhost:8080/",
          "height": 54
        },
        "outputId": "0154d5df-4d09-4034-94eb-28d0c3800b7a"
      },
      "source": [
        "sample_text = \" \".join([index_word[idx] for  idx in x_train[1]])\n",
        "print(sample_text)"
      ],
      "execution_count": 27,
      "outputs": [
        {
          "output_type": "stream",
          "text": [
            "<START> big hair big boobs bad music and a giant safety pin these are the words to best describe this terrible movie i love cheesy horror movies and i've seen hundreds but this had got to be on of the worst ever made the plot is paper thin and ridiculous the acting is an abomination the script is completely laughable the best is the end showdown with the cop and how he worked out who the killer is it's just so damn terribly written the clothes are sickening and funny in equal <UNK> the hair is big lots of boobs <UNK> men wear those cut <UNK> shirts that show off their <UNK> sickening that men actually wore them and the music is just <UNK> trash that plays over and over again in almost every scene there is trashy music boobs and <UNK> taking away bodies and the gym still doesn't close for <UNK> all joking aside this is a truly bad film whose only charm is to look back on the disaster that was the 80's and have a good old laugh at how bad everything was back then <PAD> <PAD> <PAD> <PAD> <PAD> <PAD> <PAD> <PAD> <PAD> <PAD> <PAD>\n"
          ],
          "name": "stdout"
        }
      ]
    },
    {
      "cell_type": "markdown",
      "metadata": {
        "id": "BmAQ4Pg1eyaB",
        "colab_type": "text"
      },
      "source": [
        "### モデルによるテストデータの出力を検証"
      ]
    },
    {
      "cell_type": "code",
      "metadata": {
        "id": "t8UjHCuRRBxm",
        "colab_type": "code",
        "colab": {}
      },
      "source": [
        "pred = model_lstm.predict(X_test)"
      ],
      "execution_count": 0,
      "outputs": []
    },
    {
      "cell_type": "code",
      "metadata": {
        "id": "uSQZDWiSfD-z",
        "colab_type": "code",
        "colab": {
          "base_uri": "https://localhost:8080/",
          "height": 34
        },
        "outputId": "4ff4f5bf-d3a9-4399-e12d-7e3d06f15b87"
      },
      "source": [
        "pred.shape"
      ],
      "execution_count": 30,
      "outputs": [
        {
          "output_type": "execute_result",
          "data": {
            "text/plain": [
              "(12500, 1)"
            ]
          },
          "metadata": {
            "tags": []
          },
          "execution_count": 30
        }
      ]
    },
    {
      "cell_type": "code",
      "metadata": {
        "id": "tdWoaYJfSRGX",
        "colab_type": "code",
        "colab": {
          "base_uri": "https://localhost:8080/",
          "height": 51
        },
        "outputId": "2d86fdc3-ce10-441f-e6a5-ef72f0ede92e"
      },
      "source": [
        "print(pred[0])\n",
        "print(y_test[0])"
      ],
      "execution_count": 31,
      "outputs": [
        {
          "output_type": "stream",
          "text": [
            "[0.00675032]\n",
            "0\n"
          ],
          "name": "stdout"
        }
      ]
    },
    {
      "cell_type": "code",
      "metadata": {
        "id": "P0SfKHoyZHXj",
        "colab_type": "code",
        "colab": {}
      },
      "source": [
        "#入力テキストをモデルに入力するための前処理\n",
        "import re\n",
        "\n",
        "def review_preprocessing(review, word_to_index, maxlen):\n",
        "  \n",
        "  rev = review.lower() #全部小文字にする\n",
        "  rev = re.sub(r\"[.,]\", \"\", rev) #ピリオド,コンマは省く\n",
        "  rev = rev.strip().split() #不要なスペースは除き、スペースごとで単語を区切る\n",
        "  \n",
        "  review_data=[1]\n",
        "  for word in rev:\n",
        "    try:\n",
        "      review_data.append(word_to_index[word])\n",
        "    except:\n",
        "      review_data.append(2)\n",
        "    \n",
        "  review_data = np.array(review_data).reshape(1, len(review_data))\n",
        "  review_data = sequence.pad_sequences(review_data, maxlen=maxlen, padding='post', truncating='post')\n",
        "  \n",
        "  return review_data\n",
        "  "
      ],
      "execution_count": 0,
      "outputs": []
    },
    {
      "cell_type": "markdown",
      "metadata": {
        "id": "ejy_CLBHkTqA",
        "colab_type": "text"
      },
      "source": [
        "別のレビュー投稿サイト[Fandango](https://www.fandango.com/)から持ってきた最新映画のレビューに対してネガポジ判定をさせてみる。"
      ]
    },
    {
      "cell_type": "code",
      "metadata": {
        "id": "-kr_VCY6STM5",
        "colab_type": "code",
        "colab": {}
      },
      "source": [
        "positive_review = \"I really enjoyed how they changed the path of the protagonist. Beautiful story about change and acceptance of that. My 6 year old niece loved it too and so of course it caters to a broad audience.\"\n",
        "positive_review_data = review_preprocessing(positive_review, word_index_fixed, MAX_LEN)\n",
        "\n",
        "negative_review = \"Didn’t enjoy the story and didn’t invoke any nostalgia. Not a bad movie but I’m disappointed. Kids will enjoy it though.\"\n",
        "negative_review_data = review_preprocessing(negative_review, word_index_fixed, MAX_LEN)\n",
        "\n",
        "review_data = np.concatenate((positive_review_data, negative_review_data), axis=0)"
      ],
      "execution_count": 0,
      "outputs": []
    },
    {
      "cell_type": "code",
      "metadata": {
        "id": "YUEO7j1VUCSz",
        "colab_type": "code",
        "colab": {
          "base_uri": "https://localhost:8080/",
          "height": 51
        },
        "outputId": "b27181fa-6edc-4d1f-f9ee-b0d5f729e967"
      },
      "source": [
        "pred_rev = model_lstm.predict(review_data)\n",
        "print(pred_rev)"
      ],
      "execution_count": 46,
      "outputs": [
        {
          "output_type": "stream",
          "text": [
            "[[0.98637426]\n",
            " [0.16295485]]\n"
          ],
          "name": "stdout"
        }
      ]
    },
    {
      "cell_type": "markdown",
      "metadata": {
        "id": "K76nhy_Hknqh",
        "colab_type": "text"
      },
      "source": [
        "おおよそうまく分類できている。"
      ]
    },
    {
      "cell_type": "markdown",
      "metadata": {
        "id": "rJSjYOZUk1_K",
        "colab_type": "text"
      },
      "source": [
        "### ROC曲線でモデルの性能評価"
      ]
    },
    {
      "cell_type": "code",
      "metadata": {
        "id": "AyrJkvbzkw0S",
        "colab_type": "code",
        "colab": {
          "base_uri": "https://localhost:8080/",
          "height": 295
        },
        "outputId": "35ad27c7-6757-4ace-9cef-627d8c4a91ac"
      },
      "source": [
        "fpr, tpr, thresholds = metrics.roc_curve(y_test, pred)\n",
        "\n",
        "auc = metrics.auc(fpr, tpr)\n",
        "\n",
        "#plot ROC curve\n",
        "plt.plot(fpr, tpr, label='ROC curve (area = %.2f)'%auc)\n",
        "plt.legend()\n",
        "plt.title('ROC curve')\n",
        "plt.xlabel('False Positive Rate')\n",
        "plt.ylabel('True Positive Rate')\n",
        "plt.grid(True)\n"
      ],
      "execution_count": 47,
      "outputs": [
        {
          "output_type": "display_data",
          "data": {
            "image/png": "[encoded data removed]",
            "text/plain": [
              "<Figure size 432x288 with 1 Axes>"
            ]
          },
          "metadata": {
            "tags": []
          }
        }
      ]
    },
    {
      "cell_type": "code",
      "metadata": {
        "id": "o3t85dGyOq6H",
        "colab_type": "code",
        "colab": {}
      },
      "source": [
        ""
      ],
      "execution_count": 0,
      "outputs": []
    }
  ]
}